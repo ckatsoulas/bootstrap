{
  "cells": [
    {
      "cell_type": "markdown",
      "metadata": {
        "id": "view-in-github",
        "colab_type": "text"
      },
      "source": [
        "<a href=\"https://colab.research.google.com/github/ckatsoulas/bootstrap/blob/main/%CE%91%CE%BD%CF%84%CE%AF%CE%B3%CF%81%CE%B1%CF%86%CE%BF_01_Lab.ipynb\" target=\"_parent\"><img src=\"https://colab.research.google.com/assets/colab-badge.svg\" alt=\"Open In Colab\"/></a>"
      ]
    },
    {
      "cell_type": "markdown",
      "id": "7a489fb9",
      "metadata": {
        "id": "7a489fb9"
      },
      "source": [
        "# Tickable Exercise 1\n",
        "\n",
        "No due date on this one.\n",
        "\n",
        "This notebook contains a hands-on tutorial on working with Jupyter notebooks. At the end, there are some exercises on programming in Python, based on the material in the [first lecture on Python](./Lecture_01b_FirstLookAtPython.ipynb); before continuing make sure that you have worked through this notebook first.\n",
        "\n",
        "Please go through the following exercises before the computer lab on the due date shown above. If you get stuck, have any questions or anything is unclear, please speak to your tutor in this computer lab."
      ]
    },
    {
      "cell_type": "markdown",
      "id": "efe0ee2d",
      "metadata": {
        "id": "efe0ee2d"
      },
      "source": [
        "## Working with Jupyter notebooks\n",
        "When you open a Jupyter notebook in a web browser, the header will list the name of the currently opened file, followed by a menubar and a buttonbar, as shown in the following picture:\n",
        "\n",
        "![Header of Jupyter notebooks](./figures/jupyter_header.png \"Header of Jupyter notebooks\")\n",
        "\n",
        "Jupyter notebooks are organised into **cells** which you can select by clicking on them. The currently selected cell is marked with a coloured bar on the left. A cell can contain either code or markdown text. You can change the type of the current cell with the dropdown menu in the button bar at the top of the window as shown here:\n",
        "\n",
        "![Cell type selector](./figures/cell_type_selector.png \"Cell type selector\")\n",
        "\n",
        "You can add new cells and delete existing cells with the <i class=\"fa fa-plus\"></i> and <i class=\"fa fa-cut\"></i> symbols in the buttonbar:\n",
        "\n",
        "![Adding and deleting cells](./figures/button_bar_add_cut.png \"Adding and deleting cells\")\n",
        "\n",
        "It is also possible to copy cells, move them up and down, merge them etc. via the ''Edit'' menu item in the menu bar.\n",
        "\n",
        "**While working on an exercise, you should regularly save your work by clicking the <i class=\"fa fa-save\"></i> symbol in the button bar.** \n",
        "\n",
        "![Saving notebook](./figures/button_bar_save.png \"Saving notebook\")\n",
        "\n",
        "If you do not do this, your work will be lost when you close the window with the Jupyter notebook."
      ]
    },
    {
      "cell_type": "markdown",
      "id": "308dda05",
      "metadata": {
        "id": "308dda05"
      },
      "source": [
        "### Markdown cells\n",
        "Ok, so let's create two new cells in our notebook. Turn the first of these two cells into a markdown cell as explained above. In this cell we can now enter text. This is useful if we want to provide additional context for our work. The nice thing about markdown is that we can use special formatting for headings and to highlight text in *italic* or **bold** font. It is also possible to write [mathematical equations](https://jupyter-notebook.readthedocs.io/en/stable/examples/Notebook/Typesetting%20Equations.html).\n",
        "\n",
        "Let's try this out. Enter the following text into the markdown cell that you created:\n",
        "\n",
        "```\n",
        "## This is a heading\n",
        "This box contains some text in *italic* and some text in **bold**.\n",
        "\n",
        "Here is a list of animals:\n",
        "* cat\n",
        "* dog\n",
        "* rabbit\n",
        "```\n",
        "\n",
        "You will notice that the text already gets pre-formatted by Jupyter. The cell should look like this:\n",
        "\n",
        "![Raw markdown cell](./figures/markdown_raw.png \"Raw markdown cell\")\n",
        "\n",
        "Next, press the ''<i class=\"fa fa-play\"></i> Run'' button in the button bar for Jupyter to apply the formatting (alternatively, you can press the ''Shift'' and ''Enter'' keys on your keyboard).\n",
        "\n",
        "If everything has worked correctly, you should see this:\n",
        "\n",
        "![Formatted markdown cell](./figures/markdown_formatted.png \"Formatted markdown cell\")\n",
        "\n",
        "You can go back to editing the contents of the markdown cell by double clicking it. Try this out now and add some more text.\n",
        "\n",
        "More information on markdown can be found in the [Jupyter documentation](https://jupyter-notebook.readthedocs.io/en/stable/examples/Notebook/Working%20With%20Markdown%20Cells.html#). For this course you do not need to learn the details of markdown syntax, but you might find the basics useful for keeping notes and documenting your work."
      ]
    },
    {
      "cell_type": "markdown",
      "id": "e26d16ec",
      "metadata": {
        "id": "e26d16ec"
      },
      "source": [
        "### Python code cells\n",
        "You can enter Python code in cells that are not markdown cells (by default all newly created cells are code cells). Those cells are labelled with an `In [ ]` on the left, as in the following example:\n",
        "\n",
        "![Empty code cell](./figures/code_cell_before.png \"Empty code cell\")\n",
        "\n",
        "Let's do a simple computation. Go to a code cell in your `Tickable1_USERNAME` notebook, enter `1+2*5` and press the ''<i class=\"fa fa-play\"></i> Run'' button (or press `Shift+Enter` on your keyboard). Python will execute the code and print out the output of the calculation:\n",
        "\n",
        "![Code cell after execution](./figures/code_cell_after.png \"Code cell after execution\")\n",
        "\n",
        "Note how the label on the left has changed to `In [1]` and the corresponding output is labelled with `Out [1]`. If you execute more than one cell the number in square brackets is used to label the order in which the cells were executed.\n",
        "\n",
        "We can enter more than one Python command in a cell. For example, we could import the numpy library, use the function `exp()` to compute $e^3$, store the result in some variable `exp3` and print out the result as follows:\n",
        "\n",
        "![Code cell with more complex Python code](./figures/code_cell_exp3.png \"Code cell with more complex Python code\")"
      ]
    },
    {
      "cell_type": "markdown",
      "id": "e6b1359e",
      "metadata": {
        "id": "e6b1359e"
      },
      "source": [
        "## Some Python programming exercises\n",
        "It's your turn now. Use your notebook `Tickable1_USERNAME` to work through the following programming exercises. Show your computations to your tutor in your programming lab; don't forget to save your work at regular intervals."
      ]
    },
    {
      "cell_type": "markdown",
      "id": "bdaf706b",
      "metadata": {
        "id": "bdaf706b"
      },
      "source": [
        "### &#9745; Exercise 1: using Python as a calculator\n",
        "Write Python code to compute the following quantities. You should do each calculation in a separate cell.\n",
        "\n",
        "* $7/8$ (there are two ways of doing this, depending on whether we divide with or without remainder)\n",
        "* $7^3+2^3$\n",
        "* $1\\cdot 2\\cdot 3\\cdot 4 \\cdot 5 \\cdot 6\\cdot 7 \\cdot 8$\n",
        "* $2^{3+4^2}$\n",
        "* $10000^4-1$"
      ]
    },
    {
      "cell_type": "code",
      "execution_count": null,
      "id": "daa2c8b7",
      "metadata": {
        "id": "daa2c8b7"
      },
      "outputs": [],
      "source": []
    },
    {
      "cell_type": "markdown",
      "id": "513452ef",
      "metadata": {
        "id": "513452ef"
      },
      "source": [
        "### &#9745; Exercise 2: using variables\n",
        "Write Python code which computes the volume of a pyramid which has a given height $H$ and whose base is a rectangle of width $W$ and length $L$; in this case the volume $V$ is given by\n",
        "\n",
        "$$\n",
        "V = \\frac{1}{3} H\\cdot W\\cdot L\\qquad(\\dagger)\n",
        "$$\n",
        "\n",
        "For this, introduce variables called `height`, `width` and `length`, and assign the values $H=3$, $W=2$, $L=5$ to them. Then use the formula in Eq. $(\\dagger)$ for the volume and assign a new variable `volume` to the result. Use the `print()` function to print out the value of the variable `volume`."
      ]
    },
    {
      "cell_type": "code",
      "execution_count": null,
      "id": "7062d782",
      "metadata": {
        "id": "7062d782"
      },
      "outputs": [],
      "source": []
    },
    {
      "cell_type": "markdown",
      "id": "21ae6e40",
      "metadata": {
        "id": "21ae6e40"
      },
      "source": [
        "### &#9745; Exercise 3: manipulating lists\n",
        "\n",
        "* Create a list with the elements $1,3,5,7,9$. Change the pen-ultimate entry in this list from $5$ to $-5$ and print the list before and after this transformation.\n",
        "* Concatenate the lists $[0,2,4,6]$ and $[1,3,5,7]$ and print the result."
      ]
    },
    {
      "cell_type": "code",
      "execution_count": null,
      "id": "b6d7faf0",
      "metadata": {
        "id": "b6d7faf0"
      },
      "outputs": [],
      "source": []
    },
    {
      "cell_type": "markdown",
      "id": "a509f9a4",
      "metadata": {
        "id": "a509f9a4"
      },
      "source": [
        "### &#9745; Exercise 4: working with numpy\n",
        "Import the numpy library in such a way that you can use it with `np.`, then compute the following quantities\n",
        "\n",
        "* $e^{5}$\n",
        "* $\\sin(\\pi/7)$\n",
        "* $\\sqrt{e^{3}+2}$\n",
        "\n",
        "Consider the following code:\n",
        "```Python\n",
        "np.log2([1,2,4,8,32,512])\n",
        "```\n",
        "\n",
        "Can you work out what it does? You might want to look up the `log2` function on the [numpy documentation page](https://numpy.org/doc/stable/reference/routines.math.html)."
      ]
    },
    {
      "cell_type": "code",
      "execution_count": null,
      "id": "f5b236c2",
      "metadata": {
        "id": "f5b236c2"
      },
      "outputs": [],
      "source": []
    },
    {
      "cell_type": "markdown",
      "id": "cf0a8027",
      "metadata": {
        "id": "cf0a8027"
      },
      "source": [
        "### &#9745; Exercise 5: vectors and matrices\n",
        "Execute the following code to create the $2\\times 2$ matrix $\\begin{pmatrix}1&2\\\\3&4\\end{pmatrix}$:\n",
        "```Python\n",
        "A = np.array([[1,2],[3,4]])\n",
        "```\n",
        "(this will only work if you imported the numpy library in the previous exercise).\n",
        "\n",
        "In the same cell, write Python code to create the $3\\times 2$ matrix $D=\\begin{pmatrix}1&2\\\\3&4\\\\5&6\\end{pmatrix}$.\n",
        "\n",
        "* Compute the matrix product $A\\circ A$ and the componentwise product $A\\odot A$.\n",
        "* Consider the following expressions:\n",
        "    - `A@D`\n",
        "    - `D@A`\n",
        "    - `A*D`\n",
        "    - `D*A`\n",
        "  \n",
        "  By executing these expressions, check which ones are valid and try to understand why.\n",
        "  \n",
        "Write some code to compute the matrix-vector product $w=B^Tv$ where\n",
        "\n",
        "$$\n",
        "B = \\begin{pmatrix}1&8\\\\2&9\\\\-1&4\\\\0&2\\end{pmatrix}\\qquad\n",
        "v = \\begin{pmatrix}-3\\\\4\\\\6\\\\-2\\end{pmatrix}\n",
        "$$\n",
        "\n",
        "There are (at least) three different ways of doing this, try to implement as many as possible."
      ]
    },
    {
      "cell_type": "code",
      "execution_count": null,
      "id": "1e739d7a",
      "metadata": {
        "collapsed": true,
        "colab": {
          "base_uri": "https://localhost:8080/"
        },
        "id": "1e739d7a",
        "outputId": "0e1acf64-cf70-4376-d78a-3d0d001f7a71"
      },
      "outputs": [
        {
          "output_type": "stream",
          "name": "stdout",
          "text": [
            "[[1 2]\n",
            " [3 4]]\n",
            "[[1 2]\n",
            " [3 4]\n",
            " [5 6]]\n",
            "[[ 7 10]\n",
            " [15 22]]\n",
            "[[ 1  4]\n",
            " [ 9 16]]\n",
            "[[ 7 10]\n",
            " [15 22]\n",
            " [23 34]]\n",
            "original B is\n",
            "[[ 1  8]\n",
            " [ 2  9]\n",
            " [-1  4]\n",
            " [ 0  2]]\n",
            "B after transpose is \n",
            "[[ 1  2 -1  0]\n",
            " [ 8  9  4  2]]\n",
            "U\n",
            "[[-3]\n",
            " [ 4]\n",
            " [ 6]\n",
            " [-2]]\n",
            "BT*U\n",
            "[[-1]\n",
            " [32]]\n"
          ]
        }
      ],
      "source": [
        "import numpy as np\n",
        "A = np.array([[1,2],[3,4]])\n",
        "D = np.array([[1,2],[3,4],[5,6]])\n",
        "print(A)\n",
        "print(D)\n",
        "#For matrix multiplication (matrix product), the number of columns in the first matrix must be equal to the number of rows in the second matrix. \n",
        "#The resulting matrix, known as the matrix product, has the number of rows of the first and the number of columns of the second matrix\n",
        "#see https://en.wikipedia.org/wiki/Matrix_multiplication\n",
        "# MATRIX PRODUCT\n",
        "MP = np.matmul(A,A)\n",
        "print(MP)\n",
        "#COMPONENT WISE PRODUCT\n",
        "#component wise product will multiply per element\n",
        "CWP = np.multiply(A,A)\n",
        "print (CWP)\n",
        "# A@D stands for matrix product. Columns of A must be equal to the rows of D. They do not. Columns of A = 2, rows of D = 3. \n",
        "# print(A@D) produces an error\n",
        "# print (D@A) is valid as columns of D = 2 and rows of A = 2\n",
        "print(D@A)\n",
        "# A*D stands for element-wise operator. Matrices must have the same shape. They do not. (A is 2X2, D is 3X2).\n",
        "# print(A*D) is not valid\n",
        "# print(D*A) is not valid\n",
        "\n",
        "# code to compute the matrix-vector product  w=B**T * v  \n",
        "# see https://mathinsight.org/matrix_vector_multiplication\n",
        "# B to the power of T (B**T) means to transpose a matrix (rows to columns and columns to rows)\n",
        "# see https://www.cuemath.com/algebra/transpose-of-a-matrix/\n",
        "# B must be transposed in order to compute the product with the vector\n",
        "print (\"original B is\")\n",
        "B = np.array( [ [1,8],[2,9],[-1,4],[0,2] ] )\n",
        "print(B)\n",
        "print (\"B after transpose is \")\n",
        "BT = np.transpose(B)\n",
        "print(BT)\n",
        "U = np.array( [ [-3],[4],[6],[-2] ])\n",
        "print(\"U\")\n",
        "print(U)\n",
        "print(\"BT*U\")\n",
        "print(BT@U)"
      ]
    }
  ],
  "metadata": {
    "kernelspec": {
      "display_name": "Python 3",
      "language": "python",
      "name": "python3"
    },
    "language_info": {
      "codemirror_mode": {
        "name": "ipython",
        "version": 3
      },
      "file_extension": ".py",
      "mimetype": "text/x-python",
      "name": "python",
      "nbconvert_exporter": "python",
      "pygments_lexer": "ipython3",
      "version": "3.8.8"
    },
    "colab": {
      "provenance": [],
      "include_colab_link": true
    }
  },
  "nbformat": 4,
  "nbformat_minor": 5
}